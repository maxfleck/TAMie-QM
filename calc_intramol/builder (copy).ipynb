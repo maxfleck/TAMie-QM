{
 "cells": [
  {
   "cell_type": "code",
   "execution_count": 6,
   "metadata": {},
   "outputs": [],
   "source": [
    "import numpy as np\n",
    "import glob\n",
    "import csv\n",
    "from rapidfuzz.string_metric import normalized_levenshtein"
   ]
  },
  {
   "cell_type": "code",
   "execution_count": 50,
   "metadata": {},
   "outputs": [],
   "source": [
    "def pair_from_row(row):\n",
    "    pair={}\n",
    "    pair[\"mass\"] = float(row[1])\n",
    "    pair[\"epsilon\"] = float(row[2])\n",
    "    pair[\"sigma\"] = float(row[3])\n",
    "    pair[\"m\"] = float(row[4])\n",
    "    pair[\"cut\"] = float(row[5])\n",
    "    pair[\"charge\"] = 0.0\n",
    "    return pair\n",
    "\n",
    "def pair_of_h():\n",
    "    pair={}\n",
    "    pair[\"mass\"] = 1.0\n",
    "    pair[\"epsilon\"] = 0.0\n",
    "    pair[\"sigma\"] = 1.0\n",
    "    pair[\"m\"] = 0\n",
    "    pair[\"cut\"] = 0.0\n",
    "    pair[\"charge\"] = 0.0\n",
    "    return pair\n",
    "\n",
    "def get_charge(row,pair_dict):\n",
    "    keys = list(pair_dict.keys())\n",
    "    dummy = np.zeros(len(keys))\n",
    "    for i,key in enumerate(keys):\n",
    "        dummy[i] = normalized_levenshtein(row[0][1:],key)\n",
    "        #print(i, dummy[i])\n",
    "    pointer = np.squeeze(np.where( dummy == np.amax(dummy)))\n",
    "    charge = float(row[2])\n",
    "    return keys[pointer],charge\n",
    "    \n",
    "def read_pair_potentials(path):\n",
    "    keylist = [\"!\",\"#\",\"models:\",\"types\",\"References\"]\n",
    "    pair_dict = {}\n",
    "    with open(path) as csvfile:\n",
    "        spamreader = csv.reader(csvfile,delimiter=\" \")\n",
    "        for row in spamreader:\n",
    "            row = [ x for x in row if x]\n",
    "            if row:\n",
    "                if \"VdW-site\" in row:\n",
    "                    flag=1\n",
    "                elif \"coulomb-site\" in row:\n",
    "                    flag=2\n",
    "                elif row[0] in keylist:\n",
    "                    break            \n",
    "                elif flag == 1 and row:\n",
    "                    pair_dict[row[0]] = pair_from_row(row)\n",
    "                elif flag == 2 and row:\n",
    "                    print(row)\n",
    "                    if row[0].split(\"_\")[0] == \"cH\":\n",
    "                        pair_dict[row[0]] = pair_of_h()\n",
    "                        pair_dict[row[0]][\"charge\"] = float(row[2])\n",
    "                    else:\n",
    "                        p,ch = get_charge(row,pair_dict) \n",
    "                        print(p,ch)\n",
    "                        pair_dict[p][\"charge\"] = ch\n",
    "    return pair_dict\n",
    "\n"
   ]
  },
  {
   "cell_type": "code",
   "execution_count": 51,
   "metadata": {},
   "outputs": [
    {
     "name": "stdout",
     "output_type": "stream",
     "text": [
      "UA_devel/pair_potentials\n",
      "['cH_alcohol', '0.0', '0.404']\n",
      "['cO_alcohol', '0.0', '-0.65']\n",
      "OH_alcohol -0.65\n",
      "['cC_alcohol', '0.0', '0.246']\n",
      "CH2_alcohol 0.246\n",
      "['cH_EOH', '0.0000', '+0.415']\n",
      "['cO_EOH', '0.0000', '-0.667']\n",
      "OH_EOH -0.667\n",
      "['cC_EOH', '0.0000', '+0.252']\n",
      "CH2_EOH 0.252\n",
      "{'OH_alcohol': {'mass': 17.007, 'epsilon': 84.23, 'sigma': 3.035, 'm': 12.0, 'cut': 14.0, 'charge': -0.65}, 'CH2_alkane': {'mass': 14.027, 'epsilon': 52.9133, 'sigma': 4.04, 'm': 14.0, 'cut': 14.0, 'charge': 0.0}, 'CH2_alcohol': {'mass': 14.027, 'epsilon': 84.23, 'sigma': 3.842, 'm': 14.0, 'cut': 14.0, 'charge': 0.246}, 'CH2_EOH': {'mass': 14.027, 'epsilon': 76.265, 'sigma': 3.908, 'm': 14.0, 'cut': 14.0, 'charge': 0.252}, 'OH_EOH': {'mass': 17.007, 'epsilon': 76.265, 'sigma': 3.087, 'm': 12.0, 'cut': 14.0, 'charge': -0.667}, 'cH_alcohol': {'mass': 1.0, 'epsilon': 0.0, 'sigma': 1.0, 'm': 0, 'cut': 0.0, 'charge': 0.404}, 'cH_EOH': {'mass': 1.0, 'epsilon': 0.0, 'sigma': 1.0, 'm': 0, 'cut': 0.0, 'charge': 0.415}}\n"
     ]
    }
   ],
   "source": [
    "path = glob.glob(\"*/pair_potentials\")[0]\n",
    "print(path)\n",
    "print(read_pair_potentials(path))"
   ]
  },
  {
   "cell_type": "code",
   "execution_count": 52,
   "metadata": {},
   "outputs": [],
   "source": [
    "class molecule():    \n",
    "    def __init__(self,mol):\n",
    "        self.molecule = np.array(mol)\n",
    "        self.f = np.zeros(len(mol))\n",
    "        self.n = -1*np.ones(len(mol))\n",
    "        self.i = np.arange(len(mol))\n",
    "        n=0\n",
    "        for i,m in enumerate(mol):\n",
    "            if m[0]==\"b\":\n",
    "                self.f[i] = int(m[1:])\n",
    "            else:\n",
    "                self.n[i] = n\n",
    "                n+=1\n",
    "        return\n",
    "    def get_distance(self,nos):\n",
    "        n_min = np.min(nos)\n",
    "        n_max = np.max(nos)\n",
    "        i_min = np.squeeze(np.where(self.n==n_min))\n",
    "        i_max = np.squeeze(np.where(self.n==n_max))\n",
    "        print(self.molecule[i_min],self.molecule[i_max])\n",
    "        seq=[]\n",
    "        i_lastmol = i_min\n",
    "        lastaction = 0\n",
    "        flag=0\n",
    "        #print(np.arange(i_min,i_max))\n",
    "        for i in np.arange(i_min,i_max+1):\n",
    "            if self.f[i]==0:\n",
    "                if flag==0:\n",
    "                    seq.append(self.molecule[i])\n",
    "                    i_lastmol = i\n",
    "                    lastaction = 0\n",
    "                else:\n",
    "                    flag-=1\n",
    "            elif flag==0:\n",
    "                n_end = self.n[i_lastmol]+self.f[i]+lastaction\n",
    "                i_end = np.squeeze(np.where(self.n==n_end))\n",
    "                if i_end < i_max:\n",
    "                    flag = self.f[i]\n",
    "                    lastaction += self.f[i]\n",
    "                print(i,flag,i_end,i_max)\n",
    "\n",
    "        \n",
    "            \n",
    "            \n",
    "        return len(seq)-1,seq"
   ]
  },
  {
   "cell_type": "code",
   "execution_count": 53,
   "metadata": {},
   "outputs": [],
   "source": [
    "#mol = np.array([\"cH_alcohol\",\"OH_alcohol\",\"CH_alcohol\",\"b3\",\"CH2_alkane\",\"b5\",\"CH2_alkane\",\"CH3_alkane\",\"CH3_alkane\",\"CH2_alkane\",\"CH2_alkane\",\"CH3_alkane\"])\n",
    "mol = np.array([\"A0\",\"A1\",\"A2\",\"b5\",\"B1\",\"B2\",\"b2\",\"C1\",\"C2\",\"B3\",\"b2\",\"D1\",\"D2\",\"b2\",\"E1\",\"E2\",\"b2\",\"F1\",\"F2\",\"A3\",\"A4\",\"A5\"])\n",
    "\n",
    "m = molecule(mol)"
   ]
  },
  {
   "cell_type": "code",
   "execution_count": 54,
   "metadata": {
    "scrolled": true
   },
   "outputs": [
    {
     "name": "stdout",
     "output_type": "stream",
     "text": [
      "['A0' 'A1' 'A2' 'b5' 'B1' 'B2' 'b2' 'C1' 'C2' 'B3' 'b2' 'D1' 'D2' 'b2'\n",
      " 'E1' 'E2' 'b2' 'F1' 'F2' 'A3' 'A4' 'A5'] 22\n",
      "[0. 0. 0. 5. 0. 0. 2. 0. 0. 0. 2. 0. 0. 2. 0. 0. 2. 0. 0. 0. 0. 0.] 22\n",
      "[ 0.  1.  2. -1.  3.  4. -1.  5.  6.  7. -1.  8.  9. -1. 10. 11. -1. 12.\n",
      " 13. 14. 15. 16.] 22\n",
      "[ 0  1  2  3  4  5  6  7  8  9 10 11 12 13 14 15 16 17 18 19 20 21] 22\n",
      "#################\n",
      "A1 B2\n",
      "3 0 9 5\n",
      "(3, ['A1', 'A2', 'B1', 'B2'])\n",
      "#################\n",
      "A1 C2\n",
      "3 0 9 8\n",
      "6 0 8 8\n",
      "(5, ['A1', 'A2', 'B1', 'B2', 'C1', 'C2'])\n",
      "#################\n",
      "A1 B3\n",
      "3 0 9 9\n",
      "6 2.0 8 9\n",
      "(4, ['A1', 'A2', 'B1', 'B2', 'B3'])\n",
      "#################\n",
      "A1 D2\n",
      "3 5.0 9 12\n",
      "10 0.0 12 12\n",
      "(3, ['A1', 'A2', 'D1', 'D2'])\n",
      "#################\n",
      "A1 A5\n",
      "3 5.0 9 21\n",
      "10 2.0 12 21\n",
      "13 2.0 15 21\n",
      "16 2.0 18 21\n",
      "(4, ['A1', 'A2', 'A3', 'A4', 'A5'])\n",
      "#################\n",
      "A1 D2\n",
      "3 5.0 9 12\n",
      "10 0.0 12 12\n",
      "(3, ['A1', 'A2', 'D1', 'D2'])\n",
      "#################\n",
      "A1 E2\n",
      "3 5.0 9 15\n",
      "10 2.0 12 15\n",
      "13 0.0 15 15\n",
      "(3, ['A1', 'A2', 'E1', 'E2'])\n",
      "#################\n",
      "A1 F2\n",
      "3 5.0 9 18\n",
      "10 2.0 12 18\n",
      "13 2.0 15 18\n",
      "16 0.0 18 18\n",
      "(3, ['A1', 'A2', 'F1', 'F2'])\n"
     ]
    }
   ],
   "source": [
    "print(m.molecule,len(m.molecule))\n",
    "print(m.f,len(m.f))\n",
    "print(m.n,len(m.n))\n",
    "print(m.i,len(m.i))\n",
    "\n",
    "\n",
    "#print(m.get_distance((1,3)))\n",
    "print(\"#################\")\n",
    "print(m.get_distance((1,4)))\n",
    "print(\"#################\")\n",
    "print(m.get_distance((1,6)))\n",
    "print(\"#################\")\n",
    "print(m.get_distance((1,7)))\n",
    "print(\"#################\")\n",
    "print(m.get_distance((1,9)))\n",
    "print(\"#################\")\n",
    "print(m.get_distance((1,max(m.n) )))\n",
    "print(\"#################\")\n",
    "print(m.get_distance((1,9 )))\n",
    "print(\"#################\")\n",
    "print(m.get_distance((1,11 )))\n",
    "print(\"#################\")\n",
    "print(m.get_distance((1,13 )))"
   ]
  },
  {
   "cell_type": "code",
   "execution_count": 55,
   "metadata": {},
   "outputs": [
    {
     "data": {
      "text/plain": [
       "array([1, 2, 3, 4])"
      ]
     },
     "execution_count": 55,
     "metadata": {},
     "output_type": "execute_result"
    }
   ],
   "source": [
    "np.squeeze(np.where(m.n==4))\n",
    "np.arange(1,5)"
   ]
  },
  {
   "cell_type": "code",
   "execution_count": 56,
   "metadata": {},
   "outputs": [],
   "source": [
    "\n",
    "    \n",
    "def read_xyz(path):\n",
    "    data = []\n",
    "    with open(path) as csvfile:\n",
    "        spamreader = csv.reader(csvfile,delimiter=\" \")\n",
    "        for row in spamreader:\n",
    "            data.append([r for r in row if r])\n",
    "    n = int(data[0][0])\n",
    "    xyz = {}\n",
    "    for i,d in enumerate(data[2:n+2]):\n",
    "        xyz[i] = {}\n",
    "        xyz[i][\"atom\"] = d[0]\n",
    "        xyz[i][\"xyz\"] = np.array([float(x) for x in d[1:4]])          \n",
    "            \n",
    "    return xyz\n",
    "\n",
    "def assign_CHx(xyz):\n",
    "    xyz_CHx = {}\n",
    "    xkeys = sorted(xyz.keys())\n",
    "    ii=0\n",
    "    x=np.min(xkeys)\n",
    "    flag=0\n",
    "    while x <= np.max(xkeys):\n",
    "        if flag==0 and xyz[x][\"atom\"] == \"C\":\n",
    "            coos = np.array(xyz[x][\"xyz\"])\n",
    "            flag=1\n",
    "            x+=1\n",
    "        elif flag>0:\n",
    "            if xyz[x][\"atom\"] == \"H\":\n",
    "                coos = np.column_stack((coos, xyz[x][\"xyz\"]))\n",
    "                x+=1\n",
    "                flag+=1\n",
    "            else:\n",
    "                no=flag-1\n",
    "                xyz_CHx[ii] = {}\n",
    "                xyz_CHx[ii][\"atom\"] = \"CH\"+str(no)\n",
    "                xyz_CHx[ii][\"xyz\"] = np.sum(coos*np.array([15]+[1]*no),axis=1)/(15+1*no)\n",
    "                print(xyz_CHx[ii][\"xyz\"])\n",
    "                coos = []\n",
    "                flag=0\n",
    "                ii+=1\n",
    "        else:\n",
    "            xyz_CHx[ii] = xyz[x]\n",
    "            x+=1\n",
    "            ii+=1\n",
    "    return xyz_CHx\n",
    "        \n",
    "def to_xyz(xyz,path):\n",
    "    f = open(path, \"w\")\n",
    "    f.write(str(len(xyz))+\"\\n\")\n",
    "    f.write(\"\\n\")\n",
    "    for x in xyz:\n",
    "        line = \"    \".join([xyz[x][\"atom\"][0]]+[str(y) for y in xyz[x][\"xyz\"]])\n",
    "        f.write(line+\"\\n\")\n",
    "    f.close()"
   ]
  },
  {
   "cell_type": "code",
   "execution_count": 57,
   "metadata": {},
   "outputs": [
    {
     "name": "stdout",
     "output_type": "stream",
     "text": [
      "[ 0.01203285  0.75397809 -0.8163303 ]\n",
      "[-0.01203267  0.7539781   0.8163303 ]\n",
      "6\n",
      "{'atom': 'H', 'xyz': array([-7.5080000e-04, -5.8666370e-01, -2.2385073e+00])}\n",
      "{'atom': 'O', 'xyz': array([-0.0063283, -0.6365049, -1.277139 ])}\n",
      "{'atom': 'CH2', 'xyz': array([ 0.01203285,  0.75397809, -0.8163303 ])}\n",
      "{'atom': 'CH2', 'xyz': array([-0.01203267,  0.7539781 ,  0.8163303 ])}\n",
      "{'atom': 'O', 'xyz': array([ 0.006329 , -0.6365049,  1.277139 ])}\n",
      "{'atom': 'H', 'xyz': array([ 7.5100000e-04, -5.8666370e-01,  2.2385073e+00])}\n"
     ]
    }
   ],
   "source": [
    "path = \"tors_2.00.xyz\"\n",
    "xyz =read_xyz(path)\n",
    "xxyz = assign_CHx(xyz)\n",
    "print(len(xxyz))\n",
    "for xx in xxyz:\n",
    "    print(xxyz[xx])\n",
    "    \n",
    "to_xyz(xxyz,\"test.xyz\")"
   ]
  },
  {
   "cell_type": "code",
   "execution_count": 58,
   "metadata": {},
   "outputs": [
    {
     "data": {
      "text/plain": [
       "[15, 1, 1, 1]"
      ]
     },
     "execution_count": 58,
     "metadata": {},
     "output_type": "execute_result"
    }
   ],
   "source": [
    "[15]+[1]*3"
   ]
  },
  {
   "cell_type": "code",
   "execution_count": 59,
   "metadata": {},
   "outputs": [],
   "source": [
    "def read_bond_potentials(path):\n",
    "    keylist = [\"!\",\"#\",\"models:\",\"types\"]\n",
    "    bond_dict = {}\n",
    "    flag=0\n",
    "    with open(path) as csvfile:\n",
    "        spamreader = csv.reader(csvfile,delimiter=\" \")\n",
    "        for row in spamreader:\n",
    "            row = [ x for x in row if x]\n",
    "            if row:\n",
    "                if row[0] == \"model\":\n",
    "                    flag=1\n",
    "                elif flag==1 and row[0] in keylist:\n",
    "                    break\n",
    "                elif flag==1:\n",
    "                    name = \"_\".join(row[1:3])\n",
    "                    bond_dict[name] = {}\n",
    "                    bond_dict[name][\"list\"] = row[1:3]\n",
    "                    bond_dict[name][\"type\"] = int(row[0]) \n",
    "                    #bond_dict[name][\"len\"] = float(row[3]) \n",
    "                    #bond_dict[name][\"spring\"] = float(row[4]) \n",
    "                    angle_dict[name][\"p\"] = [float(r) for r in row[3:]] \n",
    "                \n",
    "    return bond_dict\n",
    "                "
   ]
  },
  {
   "cell_type": "code",
   "execution_count": 60,
   "metadata": {},
   "outputs": [
    {
     "name": "stdout",
     "output_type": "stream",
     "text": [
      "UA_devel/bond_potentials\n",
      "{'CH2_alkane_CH2_alkane': {'list': ['CH2_alkane', 'CH2_alkane'], 'type': 1, 'len': 1.54, 'spring': 0.0}, 'CH2_alcohol_CH2_alcohol': {'list': ['CH2_alcohol', 'CH2_alcohol'], 'type': 1, 'len': 1.514, 'spring': 0.0}, 'CH2_EOH_CH2_EOH': {'list': ['CH2_EOH', 'CH2_EOH'], 'type': 1, 'len': 1.514, 'spring': 0.0}, 'OH_EOH_cH_EOH': {'list': ['OH_EOH', 'cH_EOH'], 'type': 1, 'len': 0.97, 'spring': 0.0}, 'CH2_EOH_OH_EOH': {'list': ['CH2_EOH', 'OH_EOH'], 'type': 1, 'len': 1.42, 'spring': 0.0}, 'OH_alcohol_cH_alcohol': {'list': ['OH_alcohol', 'cH_alcohol'], 'type': 1, 'len': 0.97, 'spring': 0.0}, 'CH2_alcohol_OH_alcohol': {'list': ['CH2_alcohol', 'OH_alcohol'], 'type': 1, 'len': 1.42, 'spring': 0.0}, 'CH2_alkane_CH2_alcohol': {'list': ['CH2_alkane', 'CH2_alcohol'], 'type': 1, 'len': 1.514, 'spring': 0.0}}\n"
     ]
    }
   ],
   "source": [
    "path = glob.glob(\"*/bond_potentials\")[0]\n",
    "print(path)\n",
    "print(read_bond_potentials(path))"
   ]
  },
  {
   "cell_type": "code",
   "execution_count": 61,
   "metadata": {},
   "outputs": [],
   "source": [
    "def read_angle_potentials(path):\n",
    "    keylist = [\"!\",\"#\",\"models:\",\"types\"]\n",
    "    angle_dict = {}\n",
    "    flag=0\n",
    "    with open(path) as csvfile:\n",
    "        spamreader = csv.reader(csvfile,delimiter=\" \")\n",
    "        for row in spamreader:\n",
    "            row = [ x for x in row if x]\n",
    "            if row:\n",
    "                if row[0] == \"model\":\n",
    "                    flag=1\n",
    "                elif flag==1 and row[0] in keylist:\n",
    "                    break\n",
    "                elif flag==1:\n",
    "                    name = \"_\".join(row[1:4])\n",
    "                    angle_dict[name] = {}\n",
    "                    angle_dict[name][\"list\"] = row[1:4]\n",
    "                    angle_dict[name][\"type\"] = int(row[0]) \n",
    "                    #angle_dict[name][\"angle\"] = float(row[4]) \n",
    "                    #angle_dict[name][\"p\"] = float(row[5]) \n",
    "                    angle_dict[name][\"p\"] = [float(r) for r in row[4:]] \n",
    "                \n",
    "    return angle_dict"
   ]
  },
  {
   "cell_type": "code",
   "execution_count": 62,
   "metadata": {},
   "outputs": [
    {
     "name": "stdout",
     "output_type": "stream",
     "text": [
      "UA_devel/angle_potentials\n",
      "{'CHxx_alkane_CH2_alkane_CHxx_alkane': {'list': ['CHxx_alkane', 'CH2_alkane', 'CHxx_alkane'], 'type': 2, 'angle': 114.0, 'p': 62500.0}, 'CH2_alcohol_OH_alcohol_cH_alcohol': {'list': ['CH2_alcohol', 'OH_alcohol', 'cH_alcohol'], 'type': 2, 'angle': 107.4, 'p': 45960.0}, 'CH2_alkane_CH2_alcohol_OH_alcohol': {'list': ['CH2_alkane', 'CH2_alcohol', 'OH_alcohol'], 'type': 2, 'angle': 113.5, 'p': 62250.0}, 'CH2_alcohol_CH2_alcohol_OH_alcohol': {'list': ['CH2_alcohol', 'CH2_alcohol', 'OH_alcohol'], 'type': 2, 'angle': 113.5, 'p': 62250.0}, 'CHxx_alkane_CH2_alkane_CH2_alcohol': {'list': ['CHxx_alkane', 'CH2_alkane', 'CH2_alcohol'], 'type': 2, 'angle': 114.0, 'p': 62500.0}, 'CH2_alcohol_CH2_alkane_CH2_alcohol': {'list': ['CH2_alcohol', 'CH2_alkane', 'CH2_alcohol'], 'type': 2, 'angle': 114.0, 'p': 62500.0}, 'CH2_EOH_OH_EOH_cH_EOH': {'list': ['CH2_EOH', 'OH_EOH', 'cH_EOH'], 'type': 2, 'angle': 107.4, 'p': 45960.0}, 'CH2_EOH_CH2_EOH_OH_EOH': {'list': ['CH2_EOH', 'CH2_EOH', 'OH_EOH'], 'type': 2, 'angle': 113.5, 'p': 62250.0}}\n"
     ]
    }
   ],
   "source": [
    "path = glob.glob(\"*/angle_potentials\")[0]\n",
    "print(path)\n",
    "print(read_angle_potentials(path))"
   ]
  },
  {
   "cell_type": "code",
   "execution_count": 65,
   "metadata": {},
   "outputs": [],
   "source": [
    "def read_torsion_potentials(path):\n",
    "    keylist = [\"!\",\"#\",\"models:\",\"types\",\"Note:\"]\n",
    "    torsion_dict = {}\n",
    "    flag=0\n",
    "    with open(path) as csvfile:\n",
    "        spamreader = csv.reader(csvfile,delimiter=\" \")\n",
    "        for row in spamreader:\n",
    "            row = [ x for x in row if x]\n",
    "            if row:\n",
    "                if row[0] == \"model\":\n",
    "                    flag=1\n",
    "                elif flag==1 and row[0] in keylist:\n",
    "                    break\n",
    "                elif flag==1:\n",
    "                    name = \"_\".join(row[1:5])\n",
    "                    torsion_dict[name] = {}\n",
    "                    torsion_dict[name][\"list\"] = row[1:5]\n",
    "                    torsion_dict[name][\"type\"] = int(row[0]) \n",
    "                    torsion_dict[name][\"p\"] = [float(r) for r in row[5:]] \n",
    "                \n",
    "    return torsion_dict"
   ]
  },
  {
   "cell_type": "code",
   "execution_count": 66,
   "metadata": {},
   "outputs": [
    {
     "name": "stdout",
     "output_type": "stream",
     "text": [
      "UA_devel/torsion_potentials\n",
      "{'CHxx_alkane_CH2_alkane_CH2_alkane_CHxx_alkane': {'list': ['CHxx_alkane', 'CH2_alkane', 'CH2_alkane', 'CHxx_alkane'], 'type': 1, 'p': [0.0, 355.03, -68.19, 791.32, 0.0]}, 'CH2_alkane_CH2_alcohol_OH_alcohol_cH_alcohol': {'list': ['CH2_alkane', 'CH2_alcohol', 'OH_alcohol', 'cH_alcohol'], 'type': 1, 'p': [-184.99, 82.0, 36.89, 303.85, 0.0]}, 'CH2_alcohol_CH2_alcohol_OH_alcohol_cH_alcohol': {'list': ['CH2_alcohol', 'CH2_alcohol', 'OH_alcohol', 'cH_alcohol'], 'type': 1, 'p': [-184.99, 82.0, 36.89, 303.85, 0.0]}, 'CHxx_alkane_CH2_alkane_CH2_alcohol_OH_alcohol': {'list': ['CHxx_alkane', 'CH2_alkane', 'CH2_alcohol', 'OH_alcohol'], 'type': 1, 'p': [0.0, 206.45, -222.56, 1085.08, 0.0]}, 'CH2_alcohol_CH2_alkane_CH2_alcohol_OH_alcohol': {'list': ['CH2_alcohol', 'CH2_alkane', 'CH2_alcohol', 'OH_alcohol'], 'type': 1, 'p': [0.0, 206.45, -222.56, 1085.08, 0.0]}, 'CHxx_alkane_CH2_alkane_CH2_alkane_CH2_alcohol': {'list': ['CHxx_alkane', 'CH2_alkane', 'CH2_alkane', 'CH2_alcohol'], 'type': 1, 'p': [0.0, 355.03, -68.19, 791.32, 0.0]}, 'CH2_alcohol_CH2_alkane_CH2_alkane_CH2_alcohol': {'list': ['CH2_alcohol', 'CH2_alkane', 'CH2_alkane', 'CH2_alcohol'], 'type': 1, 'p': [0.0, 355.03, -68.19, 791.32, 0.0]}, 'OH_EOH_CH2_EOH_CH2_EOH_OH_EOH': {'list': ['OH_EOH', 'CH2_EOH', 'CH2_EOH', 'OH_EOH'], 'type': 1, 'p': [503.24, 0.0, -251.62, 1006.47, 0.0]}, 'CH2_EOH_CH2_EOH_OH_EOH_cH_EOH': {'list': ['CH2_EOH', 'CH2_EOH', 'OH_EOH', 'cH_EOH'], 'type': 1, 'p': [-184.99, 82.0, 36.89, 303.85, 0.0]}}\n"
     ]
    }
   ],
   "source": [
    "path = glob.glob(\"*/torsion_potentials\")[0]\n",
    "print(path)\n",
    "print(read_torsion_potentials(path))"
   ]
  },
  {
   "cell_type": "code",
   "execution_count": null,
   "metadata": {},
   "outputs": [],
   "source": []
  },
  {
   "cell_type": "code",
   "execution_count": null,
   "metadata": {},
   "outputs": [],
   "source": []
  }
 ],
 "metadata": {
  "kernelspec": {
   "display_name": "Python 3",
   "language": "python",
   "name": "python3"
  },
  "language_info": {
   "codemirror_mode": {
    "name": "ipython",
    "version": 3
   },
   "file_extension": ".py",
   "mimetype": "text/x-python",
   "name": "python",
   "nbconvert_exporter": "python",
   "pygments_lexer": "ipython3",
   "version": "3.8.3"
  }
 },
 "nbformat": 4,
 "nbformat_minor": 4
}
