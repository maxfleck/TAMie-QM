{
 "cells": [
  {
   "cell_type": "code",
   "execution_count": 47,
   "metadata": {},
   "outputs": [],
   "source": [
    "import numpy as np\n",
    "import glob\n",
    "import csv\n",
    "from rapidfuzz.string_metric import normalized_levenshtein\n",
    "import json"
   ]
  },
  {
   "cell_type": "code",
   "execution_count": 49,
   "metadata": {},
   "outputs": [],
   "source": [
    "def pair_from_row(row):\n",
    "    pair={}\n",
    "    pair[\"mass\"] = float(row[1])\n",
    "    pair[\"epsilon\"] = float(row[2])\n",
    "    pair[\"sigma\"] = float(row[3])\n",
    "    pair[\"m\"] = float(row[4])\n",
    "    pair[\"cut\"] = float(row[5])\n",
    "    pair[\"charge\"] = 0.0\n",
    "    return pair\n",
    "\n",
    "def pair_of_h():\n",
    "    pair={}\n",
    "    pair[\"mass\"] = 1.0\n",
    "    pair[\"epsilon\"] = 0.0\n",
    "    pair[\"sigma\"] = 1.0\n",
    "    pair[\"m\"] = 0\n",
    "    pair[\"cut\"] = 0.0\n",
    "    pair[\"charge\"] = 0.0\n",
    "    return pair\n",
    "\n",
    "def get_charge(row,pair_dict):\n",
    "    keys = list(pair_dict.keys())\n",
    "    dummy = np.zeros(len(keys))\n",
    "    for i,key in enumerate(keys):\n",
    "        dummy[i] = normalized_levenshtein(row[0][1:],key)\n",
    "        #print(i, dummy[i])\n",
    "    pointer = np.squeeze(np.where( dummy == np.amax(dummy)))\n",
    "    charge = float(row[2])\n",
    "    return keys[pointer],charge\n",
    "    \n",
    "def read_pair_potentials(path):\n",
    "    keylist = [\"!\",\"#\",\"models:\",\"types\",\"References\"]\n",
    "    pair_dict = {}\n",
    "    flag=-1\n",
    "    with open(path) as csvfile:\n",
    "        spamreader = csv.reader(csvfile,delimiter=\" \")\n",
    "        for row in spamreader:\n",
    "            row = [ x for x in row if x]\n",
    "            if row:\n",
    "                if \"VdW-site\" in row:\n",
    "                    flag=1\n",
    "                elif \"coulomb-site\" in row:\n",
    "                    flag=2\n",
    "                elif row[0] in keylist:\n",
    "                    break            \n",
    "                elif flag == 1 and row:\n",
    "                    pair_dict[row[0]] = pair_from_row(row)\n",
    "                elif flag == 2 and row:\n",
    "                    print(row)\n",
    "                    if row[0].split(\"_\")[0] == \"cH\":\n",
    "                        pair_dict[row[0]] = pair_of_h()\n",
    "                        pair_dict[row[0]][\"charge\"] = float(row[2])\n",
    "                    else:\n",
    "                        p,ch = get_charge(row,pair_dict) \n",
    "                        print(p,ch)\n",
    "                        pair_dict[p][\"charge\"] = ch\n",
    "    return pair_dict\n",
    "\n",
    "def read_json(path):\n",
    "    with open(path) as json_file:\n",
    "        return json.load(json_file)"
   ]
  },
  {
   "cell_type": "code",
   "execution_count": 50,
   "metadata": {},
   "outputs": [
    {
     "name": "stdout",
     "output_type": "stream",
     "text": [
      "UA_devel/pair_potentials\n",
      "['cH_alcohol', '0.0', '0.404']\n",
      "['cO_alcohol', '0.0', '-0.65']\n",
      "OH_alcohol -0.65\n",
      "['cC_alcohol', '0.0', '0.246']\n",
      "CH2_alcohol 0.246\n",
      "['cH_EOH', '0.0000', '+0.415']\n",
      "['cO_EOH', '0.0000', '-0.667']\n",
      "OH_EOH -0.667\n",
      "['cC_EOH', '0.0000', '+0.252']\n",
      "CH2_EOH 0.252\n",
      "{'OH_alcohol': {'mass': 17.007, 'epsilon': 84.23, 'sigma': 3.035, 'm': 12.0, 'cut': 14.0, 'charge': -0.65}, 'CH2_alkane': {'mass': 14.027, 'epsilon': 52.9133, 'sigma': 4.04, 'm': 14.0, 'cut': 14.0, 'charge': 0.0}, 'CH2_alcohol': {'mass': 14.027, 'epsilon': 84.23, 'sigma': 3.842, 'm': 14.0, 'cut': 14.0, 'charge': 0.246}, 'CH2_EOH': {'mass': 14.027, 'epsilon': 76.265, 'sigma': 3.908, 'm': 14.0, 'cut': 14.0, 'charge': 0.252}, 'OH_EOH': {'mass': 17.007, 'epsilon': 76.265, 'sigma': 3.087, 'm': 12.0, 'cut': 14.0, 'charge': -0.667}, 'cH_alcohol': {'mass': 1.0, 'epsilon': 0.0, 'sigma': 1.0, 'm': 0, 'cut': 0.0, 'charge': 0.404}, 'cH_EOH': {'mass': 1.0, 'epsilon': 0.0, 'sigma': 1.0, 'm': 0, 'cut': 0.0, 'charge': 0.415}}\n"
     ]
    }
   ],
   "source": [
    "path = glob.glob(\"*/pair_potentials\")[0]\n",
    "print(path)\n",
    "print(read_pair_potentials(path))"
   ]
  },
  {
   "cell_type": "code",
   "execution_count": 69,
   "metadata": {},
   "outputs": [],
   "source": [
    "class molecule():    \n",
    "    def __init__(self,mol):\n",
    "        self.molecule = np.array(mol)\n",
    "        self.f = np.zeros(len(mol))\n",
    "        self.n = -1*np.ones(len(mol))\n",
    "        self.i = np.arange(len(mol))\n",
    "        n=0\n",
    "        for i,m in enumerate(mol):\n",
    "            if m[0]==\"b\":\n",
    "                self.f[i] = int(m[1:])\n",
    "            elif m[0]==\"r\":\n",
    "                self.f[i] = -int(m[1:])\n",
    "            else:\n",
    "                self.n[i] = n\n",
    "                n+=1\n",
    "        return\n",
    "    def get_distance(self,nos,ignore_ring=False):\n",
    "        n_min = np.min(nos)\n",
    "        n_max = np.max(nos)\n",
    "        i_min = np.squeeze(np.where(self.n==n_min))\n",
    "        i_max = np.squeeze(np.where(self.n==n_max))\n",
    "        print(self.molecule[i_min],self.molecule[i_max])\n",
    "        print(self.molecule,i_min,i_max,n_min,n_max,nos)\n",
    "        \n",
    "        if i_min==0:\n",
    "            seq=[]\n",
    "            i_lastmol = i_min\n",
    "            lastaction = 0\n",
    "            flag=0\n",
    "            #print(np.arange(i_min,i_max))\n",
    "            for i in np.arange(i_min,i_max+1):\n",
    "                if self.f[i]==0:\n",
    "                    if flag==0:\n",
    "                        seq.append(self.molecule[i])\n",
    "                        i_lastmol = i\n",
    "                        lastaction = 0\n",
    "                    else:\n",
    "                        flag-=1\n",
    "                elif flag==0:\n",
    "                    n_end = self.n[i_lastmol]+self.f[i]+lastaction\n",
    "                    i_end = np.squeeze(np.where(self.n==n_end))\n",
    "\n",
    "                    if i_end < i_max and self.f[i]>0:\n",
    "                        flag = self.f[i] \n",
    "                        lastaction += self.f[i]\n",
    "                    elif self.f[i]<0: #ring closing...here??\n",
    "                        print(\"aaah\")\n",
    "                    print(i,flag,i_end,i_max)\n",
    "        else:\n",
    "            print(i_min,i_max,len(self.n))\n",
    "            l1,s1=self.get_distance((0,int(n_min) ))   \n",
    "            l2,s2=self.get_distance((0,int(n_max) ))   \n",
    "            last=0\n",
    "            for i,s in enumerate(s1):\n",
    "                if s in s2:\n",
    "                    last=i\n",
    "                else:\n",
    "                    break\n",
    "            p1 = np.squeeze(np.where(s1==s1[last]))\n",
    "            p2 = np.squeeze(np.where(s2==s2[last]))\n",
    "            print(last)\n",
    "            print(\"test\",s1,s2)\n",
    "            print(\"test\",p1,p2)\n",
    "            print(s1[p1:])\n",
    "            print(s2[p2:])\n",
    "            ss1 = np.flip(s1[p1+1:])\n",
    "            ss2 = s2[(p2):]\n",
    "            seq= np.concatenate( (ss1,ss2) )\n",
    "            \n",
    "            \n",
    "        return len(seq)-1,np.array(seq)\n",
    "    \n",
    "    def assign_xyz_coos(self,path):\n",
    "        data = []\n",
    "        with open(path) as csvfile:\n",
    "            spamreader = csv.reader(csvfile,delimiter=\" \")\n",
    "            for row in spamreader:\n",
    "                data.append([r for r in row if r])\n",
    "        print(data)\n",
    "        n = int(data[0][0])\n",
    "        xyz = {}\n",
    "        for i,d in enumerate(data[2:n+2]):\n",
    "            p = self.molecule[np.squeeze(np.where(self.n==i))]\n",
    "            if d[0] in p.split(\"_\")[0]:\n",
    "                xyz[i] = {}\n",
    "                xyz[i][\"atom\"] = p\n",
    "                xyz[i][\"original\"] = p\n",
    "                xyz[i][\"xyz\"] = np.array([float(x) for x in d[1:4]])    \n",
    "            else:\n",
    "                print(\"ERROR: xyz doesnt fit your structure\")\n",
    "                break\n",
    "        return xyz\n",
    "    \n",
    "    def assign_pair_potentials(self,path,args=[\"mass\",\"epsilon\",\"sigma\",\"m\",\"cut\",\"charge\"]):        \n",
    "        self.ff  = read_pair_potentials(path)\n",
    "        #{'mass': 17.007, 'epsilon': 84.23, 'sigma': 3.035, 'm': 12.0, 'cut': 14.0, 'charge': -0.65}\n",
    "        self.mol_ff = [{}]*len(self.n)\n",
    "        self.vdw_groups = 0\n",
    "        for i,(n,m) in enumerate(zip(self.n,self.molecule)):\n",
    "            if n >= 0:\n",
    "                self.mol_ff[i] = self.ff[m]\n",
    "                if self.mol_ff[i][\"epsilon\"] > 0.0:\n",
    "                    self.vdw_groups += 1\n",
    "            else:\n",
    "                self.mol_ff[i] = None        \n",
    "        return\n",
    "\n",
    "    def write_ff(self):\n",
    "        return\n",
    "    \n",
    "    def assign_gc(self,path,fun=read_json ):\n",
    "        self.gc = fun(path)\n",
    "        print(self.gc)\n",
    "        self.mol_gc = [{}]*len(self.n)\n",
    "        for i,(n,m) in enumerate(zip(self.n,self.molecule)):\n",
    "            if n >= 0:\n",
    "                self.mol_gc[i] = self.gc[m]\n",
    "            else:\n",
    "                self.mol_gc[i] = None      \n",
    "        return\n",
    "    \n",
    "    def get_saft_from_ff(self,phi_sigma=1.0,phi_epsilon=1.0):\n",
    "                \n",
    "        sigmas   = np.array([ x[\"sigma\"] for x in self.mol_ff ])\n",
    "        epsilons = np.array([ x[\"epsilon\"] for x in self.mol_ff ])\n",
    "        \n",
    "        self.m_saft       = np.sum(self.mol_gc)\n",
    "        self.sigma_saft   = ( np.sum(sigmas**3)/self.m_saft )**(1/3) / phi_sigma\n",
    "        sigma_i      = np.outer(sigmas,np.ones(self.vdw_groups))\n",
    "        sigma_j      = np.outer(np.ones(self.vdw_groups),sigmas)\n",
    "        sigma_ij     = (sigma_i+sigma_j)/2\n",
    "        epsilon_i    = np.outer(epsilons,np.ones(self.vdw_groups))\n",
    "        epsilon_j    = np.outer(np.ones(self.vdw_groups),epsilons)\n",
    "        epsilon_ij   = np.sqrt(epsilon_i*epsilon_j)\n",
    "        self.epsilon_saft = np.sum(epsilon_ij*sigma_ij**3) / ( phi_epsilon * self.m_saft**2 * (self.sigma_saft*phi_sigma)**3)        \n",
    "        \n",
    "        return\n",
    "    "
   ]
  },
  {
   "cell_type": "code",
   "execution_count": 70,
   "metadata": {},
   "outputs": [
    {
     "name": "stdout",
     "output_type": "stream",
     "text": [
      "[['6'], [], ['H', '-0.0007508', '-0.5866637', '-2.2385073'], ['O', '-0.0063283', '-0.6365049', '-1.277139'], ['C', '0.012032852941176468', '0.753978094117647', '-0.8163303'], ['C', '-0.01203267058823529', '0.7539781000000001', '0.8163303'], ['O', '0.006329', '-0.6365049', '1.277139'], ['H', '0.000751', '-0.5866637', '2.2385073']]\n",
      "['cH_alcohol', '0.0', '0.404']\n",
      "['cO_alcohol', '0.0', '-0.65']\n",
      "OH_alcohol -0.65\n",
      "['cC_alcohol', '0.0', '0.246']\n",
      "CH2_alcohol 0.246\n",
      "['cH_EOH', '0.0000', '+0.415']\n",
      "['cO_EOH', '0.0000', '-0.667']\n",
      "OH_EOH -0.667\n",
      "['cC_EOH', '0.0000', '+0.252']\n",
      "CH2_EOH 0.252\n",
      "{'CH3_alkane': 0.61198, 'CH2_amine': 0.45606, 'CH2_alkane': 0.45606, 'NH2_amine': 0.40558, 'CH_alcohol': 0.14304, 'OH_alcohol': 0.402, 'CH2_alcohol': 1111.402, 'cH_alcohol': 0.0}\n"
     ]
    },
    {
     "ename": "ValueError",
     "evalue": "operands could not be broadcast together with shapes (6,4) (4,6) ",
     "output_type": "error",
     "traceback": [
      "\u001b[0;31m---------------------------------------------------------------------------\u001b[0m",
      "\u001b[0;31mValueError\u001b[0m                                Traceback (most recent call last)",
      "\u001b[0;32m<ipython-input-70-8008e9faff18>\u001b[0m in \u001b[0;36m<module>\u001b[0;34m\u001b[0m\n\u001b[1;32m      6\u001b[0m \u001b[0meth\u001b[0m\u001b[0;34m.\u001b[0m\u001b[0massign_pair_potentials\u001b[0m\u001b[0;34m(\u001b[0m\u001b[0mpath\u001b[0m\u001b[0;34m)\u001b[0m\u001b[0;34m\u001b[0m\u001b[0;34m\u001b[0m\u001b[0m\n\u001b[1;32m      7\u001b[0m \u001b[0meth\u001b[0m\u001b[0;34m.\u001b[0m\u001b[0massign_gc\u001b[0m\u001b[0;34m(\u001b[0m\u001b[0;34m\"group_contributions.json\"\u001b[0m\u001b[0;34m)\u001b[0m\u001b[0;34m\u001b[0m\u001b[0;34m\u001b[0m\u001b[0m\n\u001b[0;32m----> 8\u001b[0;31m \u001b[0meth\u001b[0m\u001b[0;34m.\u001b[0m\u001b[0mget_saft_from_ff\u001b[0m\u001b[0;34m(\u001b[0m\u001b[0;34m)\u001b[0m\u001b[0;34m\u001b[0m\u001b[0;34m\u001b[0m\u001b[0m\n\u001b[0m\u001b[1;32m      9\u001b[0m \u001b[0mprint\u001b[0m\u001b[0;34m(\u001b[0m\u001b[0meth\u001b[0m\u001b[0;34m.\u001b[0m\u001b[0mgc\u001b[0m\u001b[0;34m)\u001b[0m\u001b[0;34m\u001b[0m\u001b[0;34m\u001b[0m\u001b[0m\n",
      "\u001b[0;32m<ipython-input-69-d860ffa620b1>\u001b[0m in \u001b[0;36mget_saft_from_ff\u001b[0;34m(self, phi_sigma, phi_epsilon)\u001b[0m\n\u001b[1;32m    129\u001b[0m         \u001b[0msigma_i\u001b[0m      \u001b[0;34m=\u001b[0m \u001b[0mnp\u001b[0m\u001b[0;34m.\u001b[0m\u001b[0mouter\u001b[0m\u001b[0;34m(\u001b[0m\u001b[0msigmas\u001b[0m\u001b[0;34m,\u001b[0m\u001b[0mnp\u001b[0m\u001b[0;34m.\u001b[0m\u001b[0mones\u001b[0m\u001b[0;34m(\u001b[0m\u001b[0mself\u001b[0m\u001b[0;34m.\u001b[0m\u001b[0mvdw_groups\u001b[0m\u001b[0;34m)\u001b[0m\u001b[0;34m)\u001b[0m\u001b[0;34m\u001b[0m\u001b[0;34m\u001b[0m\u001b[0m\n\u001b[1;32m    130\u001b[0m         \u001b[0msigma_j\u001b[0m      \u001b[0;34m=\u001b[0m \u001b[0mnp\u001b[0m\u001b[0;34m.\u001b[0m\u001b[0mouter\u001b[0m\u001b[0;34m(\u001b[0m\u001b[0mnp\u001b[0m\u001b[0;34m.\u001b[0m\u001b[0mones\u001b[0m\u001b[0;34m(\u001b[0m\u001b[0mself\u001b[0m\u001b[0;34m.\u001b[0m\u001b[0mvdw_groups\u001b[0m\u001b[0;34m)\u001b[0m\u001b[0;34m,\u001b[0m\u001b[0msigmas\u001b[0m\u001b[0;34m)\u001b[0m\u001b[0;34m\u001b[0m\u001b[0;34m\u001b[0m\u001b[0m\n\u001b[0;32m--> 131\u001b[0;31m         \u001b[0msigma_ij\u001b[0m     \u001b[0;34m=\u001b[0m \u001b[0;34m(\u001b[0m\u001b[0msigma_i\u001b[0m\u001b[0;34m+\u001b[0m\u001b[0msigma_j\u001b[0m\u001b[0;34m)\u001b[0m\u001b[0;34m/\u001b[0m\u001b[0;36m2\u001b[0m\u001b[0;34m\u001b[0m\u001b[0;34m\u001b[0m\u001b[0m\n\u001b[0m\u001b[1;32m    132\u001b[0m         \u001b[0mepsilon_i\u001b[0m    \u001b[0;34m=\u001b[0m \u001b[0mnp\u001b[0m\u001b[0;34m.\u001b[0m\u001b[0mouter\u001b[0m\u001b[0;34m(\u001b[0m\u001b[0mepsilons\u001b[0m\u001b[0;34m,\u001b[0m\u001b[0mnp\u001b[0m\u001b[0;34m.\u001b[0m\u001b[0mones\u001b[0m\u001b[0;34m(\u001b[0m\u001b[0mself\u001b[0m\u001b[0;34m.\u001b[0m\u001b[0mvdw_groups\u001b[0m\u001b[0;34m)\u001b[0m\u001b[0;34m)\u001b[0m\u001b[0;34m\u001b[0m\u001b[0;34m\u001b[0m\u001b[0m\n\u001b[1;32m    133\u001b[0m         \u001b[0mepsilon_j\u001b[0m    \u001b[0;34m=\u001b[0m \u001b[0mnp\u001b[0m\u001b[0;34m.\u001b[0m\u001b[0mouter\u001b[0m\u001b[0;34m(\u001b[0m\u001b[0mnp\u001b[0m\u001b[0;34m.\u001b[0m\u001b[0mones\u001b[0m\u001b[0;34m(\u001b[0m\u001b[0mself\u001b[0m\u001b[0;34m.\u001b[0m\u001b[0mvdw_groups\u001b[0m\u001b[0;34m)\u001b[0m\u001b[0;34m,\u001b[0m\u001b[0mepsilons\u001b[0m\u001b[0;34m)\u001b[0m\u001b[0;34m\u001b[0m\u001b[0;34m\u001b[0m\u001b[0m\n",
      "\u001b[0;31mValueError\u001b[0m: operands could not be broadcast together with shapes (6,4) (4,6) "
     ]
    }
   ],
   "source": [
    "but = np.array([\"cH_alcohol\",\"OH_alcohol\",\"CH2_alcohol\",\"CH2_alkane\",\"CH2_alkane\",\"CH2_alcohol\",\"OH_alcohol\",\"cH_alcohol\"])\n",
    "eth12 = np.array([\"cH_alcohol\",\"OH_alcohol\",\"CH2_alcohol\",\"CH2_alcohol\",\"OH_alcohol\",\"cH_alcohol\"])\n",
    "eth = molecule(eth12)\n",
    "eth.assign_xyz_coos(\"test.xyz\")\n",
    "path = glob.glob(\"*/pair_potentials\")[0]\n",
    "eth.assign_pair_potentials(path)\n",
    "eth.assign_gc(\"group_contributions.json\")\n",
    "eth.get_saft_from_ff()\n",
    "print(eth.gc)\n"
   ]
  },
  {
   "cell_type": "code",
   "execution_count": null,
   "metadata": {},
   "outputs": [],
   "source": []
  },
  {
   "cell_type": "code",
   "execution_count": 66,
   "metadata": {
    "scrolled": true
   },
   "outputs": [
    {
     "name": "stdout",
     "output_type": "stream",
     "text": [
      "['A0' 'A1' 'A2' 'b5' 'B1' 'B2' 'b2' 'C1' 'C2' 'B3' 'b2' 'D1' 'D2' 'b2'\n",
      " 'E1' 'E2' 'b2' 'F1' 'F2' 'A3' 'A4' 'A5'] 22\n",
      "[0. 0. 0. 5. 0. 0. 2. 0. 0. 0. 2. 0. 0. 2. 0. 0. 2. 0. 0. 0. 0. 0.] 22\n",
      "[ 0.  1.  2. -1.  3.  4. -1.  5.  6.  7. -1.  8.  9. -1. 10. 11. -1. 12.\n",
      " 13. 14. 15. 16.] 22\n",
      "[ 0  1  2  3  4  5  6  7  8  9 10 11 12 13 14 15 16 17 18 19 20 21] 22\n",
      "#################\n",
      "A1 E2\n",
      "['A0' 'A1' 'A2' 'b5' 'B1' 'B2' 'b2' 'C1' 'C2' 'B3' 'b2' 'D1' 'D2' 'b2'\n",
      " 'E1' 'E2' 'b2' 'F1' 'F2' 'A3' 'A4' 'A5'] 1 15 1 11 (1, 11)\n",
      "1 15 22\n",
      "A0 A1\n",
      "['A0' 'A1' 'A2' 'b5' 'B1' 'B2' 'b2' 'C1' 'C2' 'B3' 'b2' 'D1' 'D2' 'b2'\n",
      " 'E1' 'E2' 'b2' 'F1' 'F2' 'A3' 'A4' 'A5'] 0 1 0 1 (0, 1)\n",
      "A0 E2\n",
      "['A0' 'A1' 'A2' 'b5' 'B1' 'B2' 'b2' 'C1' 'C2' 'B3' 'b2' 'D1' 'D2' 'b2'\n",
      " 'E1' 'E2' 'b2' 'F1' 'F2' 'A3' 'A4' 'A5'] 0 15 0 11 (0, 11)\n",
      "3 5.0 9 15\n",
      "10 2.0 12 15\n",
      "13 0.0 15 15\n",
      "1\n",
      "test ['A0' 'A1'] ['A0' 'A1' 'A2' 'E1' 'E2']\n",
      "test 1 1\n",
      "['A1']\n",
      "['A1' 'A2' 'E1' 'E2']\n",
      "(3, array(['A1', 'A2', 'E1', 'E2'], dtype='<U2'))\n",
      "#################\n",
      "A1 F2\n",
      "['A0' 'A1' 'A2' 'b5' 'B1' 'B2' 'b2' 'C1' 'C2' 'B3' 'b2' 'D1' 'D2' 'b2'\n",
      " 'E1' 'E2' 'b2' 'F1' 'F2' 'A3' 'A4' 'A5'] 1 18 1 13 (1, 13)\n",
      "1 18 22\n",
      "A0 A1\n",
      "['A0' 'A1' 'A2' 'b5' 'B1' 'B2' 'b2' 'C1' 'C2' 'B3' 'b2' 'D1' 'D2' 'b2'\n",
      " 'E1' 'E2' 'b2' 'F1' 'F2' 'A3' 'A4' 'A5'] 0 1 0 1 (0, 1)\n",
      "A0 F2\n",
      "['A0' 'A1' 'A2' 'b5' 'B1' 'B2' 'b2' 'C1' 'C2' 'B3' 'b2' 'D1' 'D2' 'b2'\n",
      " 'E1' 'E2' 'b2' 'F1' 'F2' 'A3' 'A4' 'A5'] 0 18 0 13 (0, 13)\n",
      "3 5.0 9 18\n",
      "10 2.0 12 18\n",
      "13 2.0 15 18\n",
      "16 0.0 18 18\n",
      "1\n",
      "test ['A0' 'A1'] ['A0' 'A1' 'A2' 'F1' 'F2']\n",
      "test 1 1\n",
      "['A1']\n",
      "['A1' 'A2' 'F1' 'F2']\n",
      "(3, array(['A1', 'A2', 'F1', 'F2'], dtype='<U2'))\n",
      "#################\n",
      "A1 A4\n",
      "['A0' 'A1' 'A2' 'b5' 'B1' 'B2' 'b2' 'C1' 'C2' 'B3' 'b2' 'D1' 'D2' 'b2'\n",
      " 'E1' 'E2' 'b2' 'F1' 'F2' 'A3' 'A4' 'A5'] 1 20 1 15 (1, 15)\n",
      "1 20 22\n",
      "A0 A1\n",
      "['A0' 'A1' 'A2' 'b5' 'B1' 'B2' 'b2' 'C1' 'C2' 'B3' 'b2' 'D1' 'D2' 'b2'\n",
      " 'E1' 'E2' 'b2' 'F1' 'F2' 'A3' 'A4' 'A5'] 0 1 0 1 (0, 1)\n",
      "A0 A4\n",
      "['A0' 'A1' 'A2' 'b5' 'B1' 'B2' 'b2' 'C1' 'C2' 'B3' 'b2' 'D1' 'D2' 'b2'\n",
      " 'E1' 'E2' 'b2' 'F1' 'F2' 'A3' 'A4' 'A5'] 0 20 0 15 (0, 15)\n",
      "3 5.0 9 20\n",
      "10 2.0 12 20\n",
      "13 2.0 15 20\n",
      "16 2.0 18 20\n",
      "1\n",
      "test ['A0' 'A1'] ['A0' 'A1' 'A2' 'A3' 'A4']\n",
      "test 1 1\n",
      "['A1']\n",
      "['A1' 'A2' 'A3' 'A4']\n",
      "(3, array(['A1', 'A2', 'A3', 'A4'], dtype='<U2'))\n",
      "E2 A4\n",
      "['A0' 'A1' 'A2' 'b5' 'B1' 'B2' 'b2' 'C1' 'C2' 'B3' 'b2' 'D1' 'D2' 'b2'\n",
      " 'E1' 'E2' 'b2' 'F1' 'F2' 'A3' 'A4' 'A5'] 15 20 11 15 (11, 15)\n",
      "15 20 22\n",
      "A0 E2\n",
      "['A0' 'A1' 'A2' 'b5' 'B1' 'B2' 'b2' 'C1' 'C2' 'B3' 'b2' 'D1' 'D2' 'b2'\n",
      " 'E1' 'E2' 'b2' 'F1' 'F2' 'A3' 'A4' 'A5'] 0 15 0 11 (0, 11)\n",
      "3 5.0 9 15\n",
      "10 2.0 12 15\n",
      "13 0.0 15 15\n",
      "A0 A4\n",
      "['A0' 'A1' 'A2' 'b5' 'B1' 'B2' 'b2' 'C1' 'C2' 'B3' 'b2' 'D1' 'D2' 'b2'\n",
      " 'E1' 'E2' 'b2' 'F1' 'F2' 'A3' 'A4' 'A5'] 0 20 0 15 (0, 15)\n",
      "3 5.0 9 20\n",
      "10 2.0 12 20\n",
      "13 2.0 15 20\n",
      "16 2.0 18 20\n",
      "2\n",
      "test ['A0' 'A1' 'A2' 'E1' 'E2'] ['A0' 'A1' 'A2' 'A3' 'A4']\n",
      "test 2 2\n",
      "['A2' 'E1' 'E2']\n",
      "['A2' 'A3' 'A4']\n",
      "(4, array(['E2', 'E1', 'A2', 'A3', 'A4'], dtype='<U2'))\n",
      "C1 A4\n",
      "['A0' 'A1' 'A2' 'b5' 'B1' 'B2' 'b2' 'C1' 'C2' 'B3' 'b2' 'D1' 'D2' 'b2'\n",
      " 'E1' 'E2' 'b2' 'F1' 'F2' 'A3' 'A4' 'A5'] 7 20 5 15 (5, 15)\n",
      "7 20 22\n",
      "A0 C1\n",
      "['A0' 'A1' 'A2' 'b5' 'B1' 'B2' 'b2' 'C1' 'C2' 'B3' 'b2' 'D1' 'D2' 'b2'\n",
      " 'E1' 'E2' 'b2' 'F1' 'F2' 'A3' 'A4' 'A5'] 0 7 0 5 (0, 5)\n",
      "3 0 9 7\n",
      "6 0 8 7\n",
      "A0 A4\n",
      "['A0' 'A1' 'A2' 'b5' 'B1' 'B2' 'b2' 'C1' 'C2' 'B3' 'b2' 'D1' 'D2' 'b2'\n",
      " 'E1' 'E2' 'b2' 'F1' 'F2' 'A3' 'A4' 'A5'] 0 20 0 15 (0, 15)\n",
      "3 5.0 9 20\n",
      "10 2.0 12 20\n",
      "13 2.0 15 20\n",
      "16 2.0 18 20\n",
      "2\n",
      "test ['A0' 'A1' 'A2' 'B1' 'B2' 'C1'] ['A0' 'A1' 'A2' 'A3' 'A4']\n",
      "test 2 2\n",
      "['A2' 'B1' 'B2' 'C1']\n",
      "['A2' 'A3' 'A4']\n",
      "(5, array(['C1', 'B2', 'B1', 'A2', 'A3', 'A4'], dtype='<U2'))\n"
     ]
    }
   ],
   "source": [
    "mol = np.array([\"A0\",\"A1\",\"A2\",\"b7\",\"B1\",\"B2\",\"b2\",\"C1\",\"C2\",\"B3\",\"B4\",\"B5\",\"r7\",\"A3\",\"A4\"])\n",
    "mol = np.array([\"A0\",\"A1\",\"A2\",\"b5\",\"B1\",\"B2\",\"b2\",\"C1\",\"C2\",\"B3\",\"b2\",\"D1\",\"D2\",\"b2\",\"E1\",\"E2\",\"b2\",\"F1\",\"F2\",\"A3\",\"A4\",\"A5\"])\n",
    "\n",
    "m = molecule(mol)\n",
    "\n",
    "print(m.molecule,len(m.molecule))\n",
    "print(m.f,len(m.f))\n",
    "print(m.n,len(m.n))\n",
    "print(m.i,len(m.i))\n",
    "\n",
    "\n",
    "#print(m.get_distance((1,3)))\n",
    "print(\"#################\")\n",
    "print(m.get_distance((1,11 )))\n",
    "print(\"#################\")\n",
    "print(m.get_distance((1,13 )))\n",
    "print(\"#################\")\n",
    "print(m.get_distance((1,15 )))    \n",
    "print(m.get_distance((11,15 )))    \n",
    "print(m.get_distance((5,15 )))    "
   ]
  },
  {
   "cell_type": "code",
   "execution_count": 7,
   "metadata": {},
   "outputs": [
    {
     "data": {
      "text/plain": [
       "array([4, 3, 2, 1])"
      ]
     },
     "execution_count": 7,
     "metadata": {},
     "output_type": "execute_result"
    }
   ],
   "source": [
    "np.squeeze(np.where(m.n==4))\n",
    "np.flip(np.arange(1,5))"
   ]
  },
  {
   "cell_type": "code",
   "execution_count": 8,
   "metadata": {},
   "outputs": [],
   "source": [
    "\n",
    "    \n",
    "def read_xyz(path,energy=False):\n",
    "    data = []\n",
    "    with open(path) as csvfile:\n",
    "        spamreader = csv.reader(csvfile,delimiter=\" \")\n",
    "        for row in spamreader:\n",
    "            data.append([r for r in row if r])\n",
    "    n = int(data[0][0])\n",
    "    xyz = {}\n",
    "    for i,d in enumerate(data[2:n+2]):\n",
    "        xyz[i] = {}\n",
    "        xyz[i][\"atom\"] = d[0]\n",
    "        xyz[i][\"xyz\"] = np.array([float(x) for x in d[1:4]])          \n",
    "\n",
    "    if energy:\n",
    "        energy = float(data[1][2])\n",
    "        return xyz,energy\n",
    "        \n",
    "    return xyz\n",
    "\n",
    "def assign_CHx(xyz):\n",
    "    xyz_CHx = {}\n",
    "    xkeys = sorted(xyz.keys())\n",
    "    ii=0\n",
    "    x=np.min(xkeys)\n",
    "    flag=0\n",
    "    while x <= np.max(xkeys):\n",
    "        if flag==0 and xyz[x][\"atom\"] == \"C\":\n",
    "            coos = np.array(xyz[x][\"xyz\"])\n",
    "            flag=1\n",
    "            x+=1\n",
    "        elif flag>0:\n",
    "            if xyz[x][\"atom\"] == \"H\":\n",
    "                coos = np.column_stack((coos, xyz[x][\"xyz\"]))\n",
    "                x+=1\n",
    "                flag+=1\n",
    "            else:\n",
    "                no=flag-1\n",
    "                xyz_CHx[ii] = {}\n",
    "                xyz_CHx[ii][\"atom\"] = \"CH\"+str(no)\n",
    "                xyz_CHx[ii][\"xyz\"] = np.sum(coos*np.array([15]+[1]*no),axis=1)/(15+1*no)\n",
    "                print(xyz_CHx[ii][\"xyz\"])\n",
    "                coos = []\n",
    "                flag=0\n",
    "                ii+=1\n",
    "        else:\n",
    "            xyz_CHx[ii] = xyz[x]\n",
    "            x+=1\n",
    "            ii+=1\n",
    "    return xyz_CHx\n",
    "        \n",
    "def to_xyz(xyz,path):\n",
    "    f = open(path, \"w\")\n",
    "    f.write(str(len(xyz))+\"\\n\")\n",
    "    f.write(\"\\n\")\n",
    "    for x in xyz:\n",
    "        line = \"    \".join([xyz[x][\"atom\"][0]]+[str(y) for y in xyz[x][\"xyz\"]])\n",
    "        f.write(line+\"\\n\")\n",
    "    f.close()\n",
    "    "
   ]
  },
  {
   "cell_type": "code",
   "execution_count": 9,
   "metadata": {},
   "outputs": [
    {
     "name": "stdout",
     "output_type": "stream",
     "text": [
      "[ 0.01203285  0.75397809 -0.8163303 ]\n",
      "[-0.01203267  0.7539781   0.8163303 ]\n",
      "6\n",
      "{'atom': 'H', 'xyz': array([-7.5080000e-04, -5.8666370e-01, -2.2385073e+00])}\n",
      "{'atom': 'O', 'xyz': array([-0.0063283, -0.6365049, -1.277139 ])}\n",
      "{'atom': 'CH2', 'xyz': array([ 0.01203285,  0.75397809, -0.8163303 ])}\n",
      "{'atom': 'CH2', 'xyz': array([-0.01203267,  0.7539781 ,  0.8163303 ])}\n",
      "{'atom': 'O', 'xyz': array([ 0.006329 , -0.6365049,  1.277139 ])}\n",
      "{'atom': 'H', 'xyz': array([ 7.5100000e-04, -5.8666370e-01,  2.2385073e+00])}\n",
      "-230.2123893649\n"
     ]
    }
   ],
   "source": [
    "path = \"tors_2.00.xyz\"\n",
    "xyz,ee =read_xyz(path,energy=True)\n",
    "xxyz = assign_CHx(xyz)\n",
    "print(len(xxyz))\n",
    "for xx in xxyz:\n",
    "    print(xxyz[xx])\n",
    "    \n",
    "to_xyz(xxyz,\"test.xyz\")\n",
    "print(ee)"
   ]
  },
  {
   "cell_type": "code",
   "execution_count": 10,
   "metadata": {},
   "outputs": [
    {
     "data": {
      "text/plain": [
       "[15, 1, 1, 1]"
      ]
     },
     "execution_count": 10,
     "metadata": {},
     "output_type": "execute_result"
    }
   ],
   "source": [
    "[15]+[1]*3"
   ]
  },
  {
   "cell_type": "code",
   "execution_count": 11,
   "metadata": {},
   "outputs": [],
   "source": [
    "def read_bond_potentials(path):\n",
    "    keylist = [\"!\",\"#\",\"models:\",\"types\"]\n",
    "    bond_dict = {}\n",
    "    flag=0\n",
    "    with open(path) as csvfile:\n",
    "        spamreader = csv.reader(csvfile,delimiter=\" \")\n",
    "        for row in spamreader:\n",
    "            row = [ x for x in row if x]\n",
    "            if row:\n",
    "                if row[0] == \"model\":\n",
    "                    flag=1\n",
    "                elif flag==1 and row[0] in keylist:\n",
    "                    break\n",
    "                elif flag==1:\n",
    "                    name = \"_\".join(row[1:3])\n",
    "                    bond_dict[name] = {}\n",
    "                    bond_dict[name][\"list\"] = row[1:3]\n",
    "                    bond_dict[name][\"type\"] = int(row[0]) \n",
    "                    #bond_dict[name][\"len\"] = float(row[3]) \n",
    "                    #bond_dict[name][\"spring\"] = float(row[4]) \n",
    "                    bond_dict[name][\"p\"] = [float(r) for r in row[3:]] \n",
    "                \n",
    "    return bond_dict\n",
    "                "
   ]
  },
  {
   "cell_type": "code",
   "execution_count": 12,
   "metadata": {},
   "outputs": [
    {
     "name": "stdout",
     "output_type": "stream",
     "text": [
      "UA_devel/bond_potentials\n",
      "{'CH2_alkane_CH2_alkane': {'list': ['CH2_alkane', 'CH2_alkane'], 'type': 1, 'p': [1.54, 0.0]}, 'CH2_alcohol_CH2_alcohol': {'list': ['CH2_alcohol', 'CH2_alcohol'], 'type': 1, 'p': [1.514, 0.0]}, 'CH2_EOH_CH2_EOH': {'list': ['CH2_EOH', 'CH2_EOH'], 'type': 1, 'p': [1.514, 0.0]}, 'OH_EOH_cH_EOH': {'list': ['OH_EOH', 'cH_EOH'], 'type': 1, 'p': [0.97, 0.0]}, 'CH2_EOH_OH_EOH': {'list': ['CH2_EOH', 'OH_EOH'], 'type': 1, 'p': [1.42, 0.0]}, 'OH_alcohol_cH_alcohol': {'list': ['OH_alcohol', 'cH_alcohol'], 'type': 1, 'p': [0.97, 0.0]}, 'CH2_alcohol_OH_alcohol': {'list': ['CH2_alcohol', 'OH_alcohol'], 'type': 1, 'p': [1.42, 0.0]}, 'CH2_alkane_CH2_alcohol': {'list': ['CH2_alkane', 'CH2_alcohol'], 'type': 1, 'p': [1.514, 0.0]}}\n"
     ]
    }
   ],
   "source": [
    "path = glob.glob(\"*/bond_potentials\")[0]\n",
    "print(path)\n",
    "print(read_bond_potentials(path))"
   ]
  },
  {
   "cell_type": "code",
   "execution_count": 13,
   "metadata": {},
   "outputs": [],
   "source": [
    "def read_angle_potentials(path):\n",
    "    keylist = [\"!\",\"#\",\"models:\",\"types\"]\n",
    "    angle_dict = {}\n",
    "    flag=0\n",
    "    with open(path) as csvfile:\n",
    "        spamreader = csv.reader(csvfile,delimiter=\" \")\n",
    "        for row in spamreader:\n",
    "            row = [ x for x in row if x]\n",
    "            if row:\n",
    "                if row[0] == \"model\":\n",
    "                    flag=1\n",
    "                elif flag==1 and row[0] in keylist:\n",
    "                    break\n",
    "                elif flag==1:\n",
    "                    name = \"_\".join(row[1:4])\n",
    "                    angle_dict[name] = {}\n",
    "                    angle_dict[name][\"list\"] = row[1:4]\n",
    "                    angle_dict[name][\"type\"] = int(row[0]) \n",
    "                    #angle_dict[name][\"angle\"] = float(row[4]) \n",
    "                    #angle_dict[name][\"p\"] = float(row[5]) \n",
    "                    angle_dict[name][\"p\"] = [float(r) for r in row[4:]] \n",
    "                \n",
    "    return angle_dict"
   ]
  },
  {
   "cell_type": "code",
   "execution_count": 14,
   "metadata": {},
   "outputs": [
    {
     "name": "stdout",
     "output_type": "stream",
     "text": [
      "UA_devel/angle_potentials\n",
      "{'CHxx_alkane_CH2_alkane_CHxx_alkane': {'list': ['CHxx_alkane', 'CH2_alkane', 'CHxx_alkane'], 'type': 2, 'p': [114.0, 62500.0]}, 'CH2_alcohol_OH_alcohol_cH_alcohol': {'list': ['CH2_alcohol', 'OH_alcohol', 'cH_alcohol'], 'type': 2, 'p': [107.4, 45960.0]}, 'CH2_alkane_CH2_alcohol_OH_alcohol': {'list': ['CH2_alkane', 'CH2_alcohol', 'OH_alcohol'], 'type': 2, 'p': [113.5, 62250.0]}, 'CH2_alcohol_CH2_alcohol_OH_alcohol': {'list': ['CH2_alcohol', 'CH2_alcohol', 'OH_alcohol'], 'type': 2, 'p': [113.5, 62250.0]}, 'CHxx_alkane_CH2_alkane_CH2_alcohol': {'list': ['CHxx_alkane', 'CH2_alkane', 'CH2_alcohol'], 'type': 2, 'p': [114.0, 62500.0]}, 'CH2_alcohol_CH2_alkane_CH2_alcohol': {'list': ['CH2_alcohol', 'CH2_alkane', 'CH2_alcohol'], 'type': 2, 'p': [114.0, 62500.0]}, 'CH2_EOH_OH_EOH_cH_EOH': {'list': ['CH2_EOH', 'OH_EOH', 'cH_EOH'], 'type': 2, 'p': [107.4, 45960.0]}, 'CH2_EOH_CH2_EOH_OH_EOH': {'list': ['CH2_EOH', 'CH2_EOH', 'OH_EOH'], 'type': 2, 'p': [113.5, 62250.0]}}\n"
     ]
    }
   ],
   "source": [
    "path = glob.glob(\"*/angle_potentials\")[0]\n",
    "print(path)\n",
    "print(read_angle_potentials(path))"
   ]
  },
  {
   "cell_type": "code",
   "execution_count": 15,
   "metadata": {},
   "outputs": [],
   "source": [
    "def read_torsion_potentials(path):\n",
    "    keylist = [\"!\",\"#\",\"models:\",\"types\",\"Note:\"]\n",
    "    torsion_dict = {}\n",
    "    flag=0\n",
    "    with open(path) as csvfile:\n",
    "        spamreader = csv.reader(csvfile,delimiter=\" \")\n",
    "        for row in spamreader:\n",
    "            row = [ x for x in row if x]\n",
    "            if row:\n",
    "                if row[0] == \"model\":\n",
    "                    flag=1\n",
    "                elif flag==1 and row[0] in keylist:\n",
    "                    break\n",
    "                elif flag==1:\n",
    "                    name = \"_\".join(row[1:5])\n",
    "                    torsion_dict[name] = {}\n",
    "                    torsion_dict[name][\"list\"] = row[1:5]\n",
    "                    torsion_dict[name][\"type\"] = int(row[0]) \n",
    "                    torsion_dict[name][\"p\"] = [float(r) for r in row[5:]] \n",
    "                \n",
    "    return torsion_dict"
   ]
  },
  {
   "cell_type": "code",
   "execution_count": 16,
   "metadata": {},
   "outputs": [
    {
     "name": "stdout",
     "output_type": "stream",
     "text": [
      "UA_devel/torsion_potentials\n",
      "{'CHxx_alkane_CH2_alkane_CH2_alkane_CHxx_alkane': {'list': ['CHxx_alkane', 'CH2_alkane', 'CH2_alkane', 'CHxx_alkane'], 'type': 1, 'p': [0.0, 355.03, -68.19, 791.32, 0.0]}, 'CH2_alcohol_CH2_alcohol_OH_alcohol_cH_alcohol': {'list': ['CH2_alcohol', 'CH2_alcohol', 'OH_alcohol', 'cH_alcohol'], 'type': 1, 'p': [-184.99, 82.0, 36.89, 303.85, 0.0]}, 'CH2_alkane_CH2_alcohol_OH_alcohol_cH_alcohol': {'list': ['CH2_alkane', 'CH2_alcohol', 'OH_alcohol', 'cH_alcohol'], 'type': 1, 'p': [-184.99, 82.0, 36.89, 303.85, 0.0]}, 'CHxx_alkane_CH2_alkane_CH2_alcohol_OH_alcohol': {'list': ['CHxx_alkane', 'CH2_alkane', 'CH2_alcohol', 'OH_alcohol'], 'type': 1, 'p': [0.0, 206.45, -222.56, 1085.08, 0.0]}, 'CH2_alcohol_CH2_alkane_CH2_alcohol_OH_alcohol': {'list': ['CH2_alcohol', 'CH2_alkane', 'CH2_alcohol', 'OH_alcohol'], 'type': 1, 'p': [0.0, 206.45, -222.56, 1085.08, 0.0]}, 'CHxx_alkane_CH2_alkane_CH2_alkane_CH2_alcohol': {'list': ['CHxx_alkane', 'CH2_alkane', 'CH2_alkane', 'CH2_alcohol'], 'type': 1, 'p': [0.0, 355.03, -68.19, 791.32, 0.0]}, 'CH2_alcohol_CH2_alkane_CH2_alkane_CH2_alcohol': {'list': ['CH2_alcohol', 'CH2_alkane', 'CH2_alkane', 'CH2_alcohol'], 'type': 1, 'p': [0.0, 355.03, -68.19, 791.32, 0.0]}, 'OH_EOH_CH2_EOH_CH2_EOH_OH_EOH': {'list': ['OH_EOH', 'CH2_EOH', 'CH2_EOH', 'OH_EOH'], 'type': 1, 'p': [503.24, 0.0, -251.62, 1006.47, 0.0]}, 'CH2_EOH_CH2_EOH_OH_EOH_cH_EOH': {'list': ['CH2_EOH', 'CH2_EOH', 'OH_EOH', 'cH_EOH'], 'type': 1, 'p': [-184.99, 82.0, 36.89, 303.85, 0.0]}}\n"
     ]
    }
   ],
   "source": [
    "path = glob.glob(\"*/torsion_potentials\")[0]\n",
    "print(path)\n",
    "print(read_torsion_potentials(path))"
   ]
  },
  {
   "cell_type": "code",
   "execution_count": 17,
   "metadata": {},
   "outputs": [
    {
     "name": "stdout",
     "output_type": "stream",
     "text": [
      "8.8541878128e-12 1.380649e-23 1.602176634e-19\n"
     ]
    }
   ],
   "source": [
    "from scipy.constants import epsilon_0,k,e\n",
    "print(epsilon_0,k,e)\n",
    "def mieq(x1,x2,p1,p2):\n",
    "    # TO DO:\n",
    "    # - add cut-off\n",
    "    # - add shift\n",
    "    \n",
    "    # distances\n",
    "    r = np.linalg.norm(x1-x2)\n",
    "    print(\"r:\",r)\n",
    "    \n",
    "    # combining rules\n",
    "    eps = np.sqrt(p1[\"epsilon\"]*p2[\"epsilon\"])\n",
    "    sig = (p1[\"sigma\"]+p2[\"sigma\"])/2\n",
    "    m   = (p1[\"m\"]+p2[\"m\"])/2\n",
    "    print(\"sigma:\",sig)\n",
    "    \n",
    "    # mie-force\n",
    "    c0 = m / (m-6) * (m/6)**( 6/ (m-6) )\n",
    "    mf = c0 * eps * ((sig / r) ** m - (sig / r) ** 6) \n",
    "   \n",
    "    # q-force\n",
    "    qf  = (p1[\"charge\"]*p2[\"charge\"] *1e10*e**2)/(4*np.pi*epsilon_0*r*k)\n",
    "    \n",
    "    print(e * e * 1.0e10 / ( 4.0 * np.pi * epsilon_0 * k ))\n",
    "    \n",
    "    qf3 = p1[\"charge\"]*p2[\"charge\"]*167100.002729011/r\n",
    "    \n",
    "    return mf,qf,qf3"
   ]
  },
  {
   "cell_type": "code",
   "execution_count": 25,
   "metadata": {},
   "outputs": [
    {
     "name": "stdout",
     "output_type": "stream",
     "text": [
      "['cH_alcohol', '0.0', '0.404']\n",
      "['cO_alcohol', '0.0', '-0.65']\n",
      "OH_alcohol -0.65\n",
      "['cC_alcohol', '0.0', '0.246']\n",
      "CH2_alcohol 0.246\n",
      "['cH_EOH', '0.0000', '+0.415']\n",
      "['cO_EOH', '0.0000', '-0.667']\n",
      "OH_EOH -0.667\n",
      "['cC_EOH', '0.0000', '+0.252']\n",
      "CH2_EOH 0.252\n",
      "[['6'], [], ['H', '-0.0007508', '-0.5866637', '-2.2385073'], ['O', '-0.0063283', '-0.6365049', '-1.277139'], ['C', '0.012032852941176468', '0.753978094117647', '-0.8163303'], ['C', '-0.01203267058823529', '0.7539781000000001', '0.8163303'], ['O', '0.006329', '-0.6365049', '1.277139'], ['H', '0.000751', '-0.5866637', '2.2385073']]\n",
      "r: 3.516006707674151\n",
      "sigma: 3.4385000000000003\n",
      "167100.94689828737\n",
      "r: 2.5543093603804707\n",
      "sigma: 3.4385000000000003\n",
      "167100.94689828737\n",
      "r: 2.5131830858843727\n",
      "sigma: 3.4385000000000003\n",
      "167100.94689828737\n",
      "{'OH_alcohol': {'mass': 17.007, 'epsilon': 84.23, 'sigma': 3.035, 'm': 12.0, 'cut': 14.0, 'charge': -0.65}, 'CH2_alkane': {'mass': 14.027, 'epsilon': 52.9133, 'sigma': 4.04, 'm': 14.0, 'cut': 14.0, 'charge': 0.0}, 'CH2_alcohol': {'mass': 14.027, 'epsilon': 84.23, 'sigma': 3.842, 'm': 14.0, 'cut': 14.0, 'charge': 0.246}, 'CH2_EOH': {'mass': 14.027, 'epsilon': 76.265, 'sigma': 3.908, 'm': 14.0, 'cut': 14.0, 'charge': 0.252}, 'OH_EOH': {'mass': 17.007, 'epsilon': 76.265, 'sigma': 3.087, 'm': 12.0, 'cut': 14.0, 'charge': -0.667}, 'cH_alcohol': {'mass': 1.0, 'epsilon': 0.0, 'sigma': 1.0, 'm': 0, 'cut': 0.0, 'charge': 0.404}, 'cH_EOH': {'mass': 1.0, 'epsilon': 0.0, 'sigma': 1.0, 'm': 0, 'cut': 0.0, 'charge': 0.415}}\n"
     ]
    }
   ],
   "source": [
    "path = glob.glob(\"*/pair_potentials\")[0]\n",
    "ff  = read_pair_potentials(path)\n",
    "xyz = eth.assign_xyz_coos(\"test.xyz\")\n",
    "#print(ff)\n",
    "mf,qf,qf2 = mieq(xyz[1][\"xyz\"],xyz[5][\"xyz\"],ff[\"OH_alcohol\"],ff[\"CH2_alcohol\"])\n",
    "#print(mf,qf,qf2,mf-qf)\n",
    "mf,qf,qf2 = mieq(xyz[1][\"xyz\"],xyz[4][\"xyz\"],ff[\"OH_alcohol\"],ff[\"CH2_alcohol\"])\n",
    "#print(mf,qf,qf2,mf-qf)\n",
    "mf,qf,qf2 = mieq(xyz[1][\"xyz\"],xyz[3][\"xyz\"],ff[\"OH_alcohol\"],ff[\"CH2_alcohol\"])\n",
    "#print(mf,qf,qf2,mf-qf)\n",
    "#x1=np.array([1,0,0])\n",
    "#x2=np.array([1,1,0])\n",
    "#np.linalg.norm(x1-x2)\n",
    "print(ff)"
   ]
  },
  {
   "cell_type": "code",
   "execution_count": 26,
   "metadata": {},
   "outputs": [],
   "source": [
    "def unit_vector(vector):\n",
    "    \"\"\" Returns the unit vector of the vector.  \"\"\"\n",
    "    return vector / np.linalg.norm(vector)\n",
    "\n",
    "def angle_between(x1, x2, x3):\n",
    "    \"\"\" Returns the angle in radians between vectors 'v1' and 'v2'::\n",
    "\n",
    "            >>> angle_between((1, 0, 0), (0, 1, 0))\n",
    "            1.5707963267948966\n",
    "            >>> angle_between((1, 0, 0), (1, 0, 0))\n",
    "            0.0\n",
    "            >>> angle_between((1, 0, 0), (-1, 0, 0))\n",
    "            3.141592653589793\n",
    "    \"\"\"\n",
    "    v1 = unit_vector(x1-x2)\n",
    "    v2 = unit_vector(x3-x2)\n",
    "    \n",
    "    v1_u = unit_vector(v1)\n",
    "    v2_u = unit_vector(v2)\n",
    "    return np.arccos(np.clip(np.dot(v1_u, v2_u), -1.0, 1.0))\n",
    "\n",
    "def bend(ang,p):\n",
    "\n",
    "    if p[\"type\"] == 2:\n",
    "        force = p[\"p\"][1]*(ang-p[\"p\"][0]*np.pi/180)**2  \n",
    "    else:\n",
    "        force=0.0\n",
    "    return force\n",
    "    "
   ]
  },
  {
   "cell_type": "code",
   "execution_count": 20,
   "metadata": {},
   "outputs": [
    {
     "data": {
      "text/plain": [
       "10966.227112321505"
      ]
     },
     "execution_count": 20,
     "metadata": {},
     "output_type": "execute_result"
    }
   ],
   "source": [
    "path = glob.glob(\"*/angle_potentials\")[0]\n",
    "\n",
    "angs = read_angle_potentials(path)\n",
    "#print(angs)\n",
    "\n",
    "bend(angle_between(xyz[1][\"xyz\"],xyz[2][\"xyz\"],xyz[3][\"xyz\"]),angs[\"CHxx_alkane_CH2_alkane_CHxx_alkane\"])\n",
    "bend(angle_between(np.array([1,0,0]),np.array([0,0,0]),np.array([0,1,0])),angs[\"CHxx_alkane_CH2_alkane_CHxx_alkane\"])"
   ]
  },
  {
   "cell_type": "code",
   "execution_count": 21,
   "metadata": {},
   "outputs": [],
   "source": [
    "def dihedral(x0,x1,x2,x3):\n",
    "    \"\"\"Praxeolitic formula\n",
    "    1 sqrt, 1 cross product\"\"\"\n",
    "\n",
    "    b0 = -1.0*(x1 - x0)\n",
    "    b1 = x2 - x1\n",
    "    b2 = x3 - x2\n",
    "\n",
    "    # normalize b1 so that it does not influence magnitude of vector\n",
    "    # rejections that come next\n",
    "    #print(b1)\n",
    "    #print(np.linalg.norm(b1))\n",
    "    if np.linalg.norm(b1)>0:\n",
    "        b1 /= np.linalg.norm(b1)\n",
    "\n",
    "    # vector rejections\n",
    "    # v = projection of b0 onto plane perpendicular to b1\n",
    "    #   = b0 minus component that aligns with b1\n",
    "    # w = projection of b2 onto plane perpendicular to b1\n",
    "    #   = b2 minus component that aligns with b1\n",
    "    v = b0 - np.dot(b0, b1)*b1\n",
    "    w = b2 - np.dot(b2, b1)*b1\n",
    "\n",
    "    # angle between v and w in a plane is the torsion angle\n",
    "    # v and w may not be normalized but that's fine since tan is y/x\n",
    "    x = np.dot(v, w)\n",
    "    y = np.dot(np.cross(b1, v), w)\n",
    "    return np.arctan2(y, x)\n",
    "    return np.degrees(np.arctan2(y, x))"
   ]
  },
  {
   "cell_type": "code",
   "execution_count": 22,
   "metadata": {},
   "outputs": [
    {
     "data": {
      "text/plain": [
       "-2.1231360602400833"
      ]
     },
     "execution_count": 22,
     "metadata": {},
     "output_type": "execute_result"
    }
   ],
   "source": [
    "# some atom coordinates for testing\n",
    "p0 = np.array([24.969, 13.428, 30.692]) # N\n",
    "p1 = np.array([24.044, 12.661, 29.808]) # CA\n",
    "p2 = np.array([22.785, 13.482, 29.543]) # C\n",
    "p3 = np.array([21.951, 13.670, 30.431]) # O\n",
    "p4 = np.array([23.672, 11.328, 30.466]) # CB\n",
    "p5 = np.array([22.881, 10.326, 29.620]) # CG\n",
    "p6 = np.array([23.691,  9.935, 28.389]) # CD1\n",
    "p7 = np.array([22.557,  9.096, 30.459]) # CD2\n",
    "\n",
    "dihedral(p0,p1,p2,p3)\n",
    "dihedral(p1,p5,p2,p3)\n"
   ]
  },
  {
   "cell_type": "code",
   "execution_count": 23,
   "metadata": {},
   "outputs": [],
   "source": [
    "def torsion(ang,p):\n",
    "    \n",
    "    print(ang)\n",
    "    force = p[0] + p[1]* (1 + np.cos( ang )) + p[2]* (1 - np.cos(2* ang )) + p[3]* (1 + np.cos(3* ang ))\n",
    "    \n",
    "    return force"
   ]
  },
  {
   "cell_type": "code",
   "execution_count": 24,
   "metadata": {},
   "outputs": [
    {
     "name": "stdout",
     "output_type": "stream",
     "text": [
      "[0.0, 355.03, -68.19, 791.32, 0.0]\n",
      "-2.1231360602400833\n",
      "1649.617019945443\n",
      "-1.2429388648155737\n",
      "479.67725417596534\n"
     ]
    }
   ],
   "source": [
    "path = glob.glob(\"*/torsion_potentials\")[0]\n",
    "\n",
    "toto = read_torsion_potentials(path)\n",
    "print(toto[\"CHxx_alkane_CH2_alkane_CH2_alkane_CHxx_alkane\"][\"p\"])\n",
    "\n",
    "print(torsion(dihedral(p1,p5,p2,p3),toto[\"CHxx_alkane_CH2_alkane_CH2_alkane_CHxx_alkane\"][\"p\"]))\n",
    "print(torsion(dihedral(p0,p1,p2,p3),toto[\"CHxx_alkane_CH2_alkane_CH2_alkane_CHxx_alkane\"][\"p\"]))"
   ]
  },
  {
   "cell_type": "code",
   "execution_count": null,
   "metadata": {},
   "outputs": [],
   "source": []
  },
  {
   "cell_type": "code",
   "execution_count": null,
   "metadata": {},
   "outputs": [],
   "source": []
  }
 ],
 "metadata": {
  "kernelspec": {
   "display_name": "Python 3",
   "language": "python",
   "name": "python3"
  },
  "language_info": {
   "codemirror_mode": {
    "name": "ipython",
    "version": 3
   },
   "file_extension": ".py",
   "mimetype": "text/x-python",
   "name": "python",
   "nbconvert_exporter": "python",
   "pygments_lexer": "ipython3",
   "version": "3.8.3"
  }
 },
 "nbformat": 4,
 "nbformat_minor": 4
}
